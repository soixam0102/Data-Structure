{
 "cells": [
  {
   "cell_type": "markdown",
   "id": "440e13f9-d448-4fa6-b2a3-0c271e0d4a2f",
   "metadata": {
    "tags": []
   },
   "source": [
    "# Array structure"
   ]
  },
  {
   "cell_type": "markdown",
   "id": "3cc9726e-2cd3-4ee1-9393-005adef87cb1",
   "metadata": {},
   "source": [
    "## 1. Sub array with given sum"
   ]
  },
  {
   "cell_type": "markdown",
   "id": "e369947a-1380-423a-917d-def7ad908a8e",
   "metadata": {},
   "source": [
    "Given an unsorted array A of size N that contains only non-negative integers, find a continuous sub-array which adds to a given number S.\n",
    "In case of multiple subarrays, return the subarray which comes first on moving from left to right."
   ]
  },
  {
   "cell_type": "code",
   "execution_count": null,
   "id": "95a7662a-f8cb-4344-8d2e-4bdc32c291ae",
   "metadata": {},
   "outputs": [],
   "source": []
  }
 ],
 "metadata": {
  "kernelspec": {
   "display_name": "Python 3",
   "language": "python",
   "name": "python3"
  },
  "language_info": {
   "codemirror_mode": {
    "name": "ipython",
    "version": 3
   },
   "file_extension": ".py",
   "mimetype": "text/x-python",
   "name": "python",
   "nbconvert_exporter": "python",
   "pygments_lexer": "ipython3",
   "version": "3.8.10"
  }
 },
 "nbformat": 4,
 "nbformat_minor": 5
}
