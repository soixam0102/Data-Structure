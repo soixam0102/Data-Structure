{
 "cells": [
  {
   "cell_type": "markdown",
   "id": "440e13f9-d448-4fa6-b2a3-0c271e0d4a2f",
   "metadata": {
    "tags": []
   },
   "source": [
    "# Array structure"
   ]
  },
  {
   "cell_type": "markdown",
   "id": "3cc9726e-2cd3-4ee1-9393-005adef87cb1",
   "metadata": {},
   "source": [
    "## 1. Sub array with given sum"
   ]
  },
  {
   "cell_type": "markdown",
   "id": "e369947a-1380-423a-917d-def7ad908a8e",
   "metadata": {},
   "source": [
    "Given an unsorted array A of size N that contains only non-negative integers, find a continuous sub-array which adds to a given number S.\n",
    "In case of multiple subarrays, return the subarray which comes first on moving from left to right.\n",
    "\n",
    "        Input:\n",
    "        N = 5, S = 12\n",
    "        A[] = {1,2,3,7,5}\n",
    "        Output: 2 4\n",
    "        Explanation: The sum of elements from 2nd position to 4th position is 12."
   ]
  },
  {
   "cell_type": "code",
   "execution_count": 16,
   "id": "dee595cb-9d78-487f-abb1-c48afcede978",
   "metadata": {},
   "outputs": [],
   "source": [
    "class Solution:\n",
    "   def subArraySum(self,arr, n, s): \n",
    "       left=0\n",
    "       currentsum=0\n",
    "       for right in range(n): # right pointer is to traverse\n",
    "           # calculate current sum\n",
    "           currentsum = currentsum + arr[right]\n",
    "    \n",
    "           while currentsum > s:\n",
    "               # keep moving the left index and substract from currentsum\n",
    "               currentsum = currentsum - arr[left]\n",
    "               left += 1\n",
    "           if currentsum == s:\n",
    "               return ( left+1, right+1)\n",
    "   \n",
    "           # check if the currentsum > s\n",
    "       return [-1]"
   ]
  },
  {
   "cell_type": "code",
   "execution_count": 17,
   "id": "285f7dee-9ad5-4d34-b2e5-d44aeb9766d4",
   "metadata": {},
   "outputs": [
    {
     "name": "stdout",
     "output_type": "stream",
     "text": [
      "(2, 4)\n"
     ]
    }
   ],
   "source": [
    "N = 5\n",
    "S = 12\n",
    "A = [1,2,3,7,5]\n",
    "print(Solution().subArraySum(A,N,S))"
   ]
  },
  {
   "cell_type": "code",
   "execution_count": null,
   "id": "669c524c-ed37-4cbc-bcfb-85fe6e5c3a9a",
   "metadata": {},
   "outputs": [],
   "source": []
  }
 ],
 "metadata": {
  "kernelspec": {
   "display_name": "Python 3",
   "language": "python",
   "name": "python3"
  },
  "language_info": {
   "codemirror_mode": {
    "name": "ipython",
    "version": 3
   },
   "file_extension": ".py",
   "mimetype": "text/x-python",
   "name": "python",
   "nbconvert_exporter": "python",
   "pygments_lexer": "ipython3",
   "version": "3.8.10"
  }
 },
 "nbformat": 4,
 "nbformat_minor": 5
}
