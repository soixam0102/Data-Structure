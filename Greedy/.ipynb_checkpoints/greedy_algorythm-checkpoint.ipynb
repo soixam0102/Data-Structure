{
 "cells": [
  {
   "cell_type": "markdown",
   "id": "440e13f9-d448-4fa6-b2a3-0c271e0d4a2f",
   "metadata": {
    "tags": []
   },
   "source": [
    "# Greedy algorithm"
   ]
  },
  {
   "cell_type": "markdown",
   "id": "3cc9726e-2cd3-4ee1-9393-005adef87cb1",
   "metadata": {},
   "source": [
    "## EX1"
   ]
  },
  {
   "cell_type": "code",
   "execution_count": 1,
   "id": "95a50013-6579-4c8c-860b-1493f6a60c9e",
   "metadata": {},
   "outputs": [
    {
     "name": "stdout",
     "output_type": "stream",
     "text": [
      "hello greedy\n"
     ]
    }
   ],
   "source": [
    "print(\"hello greedy\")"
   ]
  },
  {
   "cell_type": "code",
   "execution_count": null,
   "id": "95a7662a-f8cb-4344-8d2e-4bdc32c291ae",
   "metadata": {},
   "outputs": [],
   "source": []
  }
 ],
 "metadata": {
  "kernelspec": {
   "display_name": "Python 3",
   "language": "python",
   "name": "python3"
  },
  "language_info": {
   "codemirror_mode": {
    "name": "ipython",
    "version": 3
   },
   "file_extension": ".py",
   "mimetype": "text/x-python",
   "name": "python",
   "nbconvert_exporter": "python",
   "pygments_lexer": "ipython3",
   "version": "3.8.10"
  }
 },
 "nbformat": 4,
 "nbformat_minor": 5
}
